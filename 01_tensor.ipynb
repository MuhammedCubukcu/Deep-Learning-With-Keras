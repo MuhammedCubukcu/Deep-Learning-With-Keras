{
  "nbformat": 4,
  "nbformat_minor": 0,
  "metadata": {
    "colab": {
      "provenance": [],
      "authorship_tag": "ABX9TyOU0W3mw9okGDgdZR496oSx"
    },
    "kernelspec": {
      "name": "python3",
      "display_name": "Python 3"
    },
    "language_info": {
      "name": "python"
    }
  },
  "cells": [
    {
      "cell_type": "markdown",
      "source": [
        "### Tensör:\n",
        "Matematikte, tensör, çok boyutlu verinin simgelenebildiği geometrik bir nesnedir. Skaler denilen yönsüz nicel büyüklükler, vektör denilen yönlü büyüklükler ve matris denilen iki boyutlu nesneler birer tensördür. Tensör, tüm bu nesnelerin genelleştirilmiş halidir ve çok boyutlu veri kümeleri için kullanılır.\n"
      ],
      "metadata": {
        "id": "TNaOR5UWj4Q8"
      }
    },
    {
      "cell_type": "markdown",
      "source": [
        "### Skarlerler (0B Tensörler)\n",
        "* Sadece bir eleman taşıyan tensörlere skaler (skaler tensör, 0B tensör veya 0 boyutlu tesnsör) denir.\n",
        "* Numpy Kütüphanesinde float32 ve float64 sayırlar bir skaler tensördür.\n",
        "* Numpy kütüphanesi kullanarak bir tensörün kaç ekseni olduğunu öğrenmek için ndim niteliğini kullanarak görüntüleyebiliriz.\n",
        "* Bir tensörün eksen sayısı ayrıca tensörün derecesi olarakda adlandırılır."
      ],
      "metadata": {
        "id": "Z5h23eohkQhd"
      }
    },
    {
      "cell_type": "code",
      "execution_count": 1,
      "metadata": {
        "id": "OGAqz3RuNmEj"
      },
      "outputs": [],
      "source": [
        "import numpy as np"
      ]
    },
    {
      "cell_type": "code",
      "source": [
        "x = np.array(12)\n",
        "x"
      ],
      "metadata": {
        "colab": {
          "base_uri": "https://localhost:8080/"
        },
        "id": "cc-6ERVVl95z",
        "outputId": "477b0dc7-b978-4e3f-f529-7e961c9d6168"
      },
      "execution_count": 3,
      "outputs": [
        {
          "output_type": "execute_result",
          "data": {
            "text/plain": [
              "array(12)"
            ]
          },
          "metadata": {},
          "execution_count": 3
        }
      ]
    },
    {
      "cell_type": "code",
      "source": [
        "x.ndim # sonuç bunun bir skaler bir tensör olduğunu gösteriyor. Skaler sıfır eksene sahiptir ndim == 0"
      ],
      "metadata": {
        "colab": {
          "base_uri": "https://localhost:8080/"
        },
        "id": "PGejXCdbmEF8",
        "outputId": "fdeade0c-f60e-4d0a-e773-63eb5f0deb8b"
      },
      "execution_count": 4,
      "outputs": [
        {
          "output_type": "execute_result",
          "data": {
            "text/plain": [
              "0"
            ]
          },
          "metadata": {},
          "execution_count": 4
        }
      ]
    },
    {
      "cell_type": "markdown",
      "source": [
        "### Vektörler (1B Tensörler)\n",
        "* Sayı dizilerine vektör veya 1B tensörler denir.\n",
        "* 1B tesnörler sadece bir eksen sahiptir."
      ],
      "metadata": {
        "id": "Ydb85W3kmbQk"
      }
    },
    {
      "cell_type": "code",
      "source": [
        "x = np.array([12, 3, 14, 7, 6])\n",
        "x"
      ],
      "metadata": {
        "colab": {
          "base_uri": "https://localhost:8080/"
        },
        "id": "mn0mAD8ymY7X",
        "outputId": "fe8eba66-8d2d-466d-95c3-9812f74309c3"
      },
      "execution_count": 5,
      "outputs": [
        {
          "output_type": "execute_result",
          "data": {
            "text/plain": [
              "array([12,  3, 14,  7,  6])"
            ]
          },
          "metadata": {},
          "execution_count": 5
        }
      ]
    },
    {
      "cell_type": "code",
      "source": [
        "x.ndim # 1B tensör  ndim == 1"
      ],
      "metadata": {
        "colab": {
          "base_uri": "https://localhost:8080/"
        },
        "id": "egUU1zmUm-gY",
        "outputId": "c1c96931-0708-4d6e-a414-a682eca2a0b9"
      },
      "execution_count": 7,
      "outputs": [
        {
          "output_type": "execute_result",
          "data": {
            "text/plain": [
              "1"
            ]
          },
          "metadata": {},
          "execution_count": 7
        }
      ]
    },
    {
      "cell_type": "markdown",
      "source": [
        "### Matrisler (2B Tensörler)\n",
        "* Bir vektör dizisi matris veya 2B tensördür.\n",
        "* Bir matrisin iki ekseni vardır.(Genellikle sütün ve satır olarak adlandırıyoruz.)\n",
        "* Görsel olarak matrisleri diktörtgen şekilde ızgaradaki sayılar olarak hayal edebiliriz."
      ],
      "metadata": {
        "id": "do39mFOXob0w"
      }
    },
    {
      "cell_type": "code",
      "source": [
        "x = np.array([[5, 78, 9, 5],\n",
        "              [6, 79, 3, 4],\n",
        "              [7, 80, 1, 2]])"
      ],
      "metadata": {
        "id": "9LC4ADZ4nAu_"
      },
      "execution_count": 8,
      "outputs": []
    },
    {
      "cell_type": "code",
      "source": [
        "x.ndim # 2B tensör 2 ekseni vardır. [5,78,9,5] x değişkenin birinci satırı. [5, 6 ,7] birinci sütunudur."
      ],
      "metadata": {
        "colab": {
          "base_uri": "https://localhost:8080/"
        },
        "id": "zW4G8jrVpkUz",
        "outputId": "1d0dfaa9-0084-440f-ae5d-330e502c68fa"
      },
      "execution_count": 9,
      "outputs": [
        {
          "output_type": "execute_result",
          "data": {
            "text/plain": [
              "2"
            ]
          },
          "metadata": {},
          "execution_count": 9
        }
      ]
    },
    {
      "cell_type": "markdown",
      "source": [
        "### 3B ve Daha Fazla Boyutlu Tensörler\n",
        "* 3B tensörleri sayı küpü olarak hayal edebilirsiniz."
      ],
      "metadata": {
        "id": "4-joil2VqZ8s"
      }
    },
    {
      "cell_type": "code",
      "source": [
        "x = np.array([[[5, 78, 9, 5],\n",
        "              [6, 79, 3, 4],\n",
        "              [7, 80, 1, 2]]])"
      ],
      "metadata": {
        "id": "B88bfY8qplUj"
      },
      "execution_count": 10,
      "outputs": []
    },
    {
      "cell_type": "code",
      "source": [
        "x.ndim"
      ],
      "metadata": {
        "colab": {
          "base_uri": "https://localhost:8080/"
        },
        "id": "VPg4APmFqXFb",
        "outputId": "2d70bc3d-e4ea-4674-d779-993377b58f16"
      },
      "execution_count": 11,
      "outputs": [
        {
          "output_type": "execute_result",
          "data": {
            "text/plain": [
              "3"
            ]
          },
          "metadata": {},
          "execution_count": 11
        }
      ]
    },
    {
      "cell_type": "markdown",
      "source": [
        "* Derin öğrenmede genellikle 0B'den 4B'ye kadar tensörlerle ilgileniriz, ancak söz konusu video olduğundaysa 5B tensörlerde kullanılabilir."
      ],
      "metadata": {
        "id": "Lw_bFkYfqyvE"
      }
    },
    {
      "cell_type": "markdown",
      "source": [
        "### Anahtar Özellikler\n",
        "Bir tensörün üç anahtar özelliği bulunur.\n",
        "* Eksen sayısı(derecesi): Örneğin 3B tensörlerin 3 ekseni, matrislerin 2 ekseni vardır.\n",
        "* Şekli: Bu tuple şeklinde her eksende kaç boyut olduğunu belirten sayılardır.Örneğin, matris örneğimizin şekli (3, 5), 3B tensör örneğimizin şekli ise (3, 3, 5) dir. Vektörün şekli ise (5, ) tek elemanlıdır ama skalerlerin şekli ( ) yoktur.\n",
        "* Veri tipi (Python kütüphanelerinde genellikle dtype olarak adlandırılır): Bu tensörün taşıdığı veri tipidir. Örneğin bir tensörün veri tipi uint8, float32, float64 ya da başka veri tipinde olabilir. Nadirende char veri tipindede olabilir. Numpy kütüphanesinde string veri tipinde tensör bulunmamaktadır."
      ],
      "metadata": {
        "id": "_L-JFEWXrQlC"
      }
    },
    {
      "cell_type": "markdown",
      "source": [
        "##### Şimdi bu öğrendiklerimizi somut hale getirelim."
      ],
      "metadata": {
        "id": "XO_zPReFtyvX"
      }
    },
    {
      "cell_type": "code",
      "source": [
        "from keras.datasets import mnist"
      ],
      "metadata": {
        "id": "ShipJN4yqYba"
      },
      "execution_count": 12,
      "outputs": []
    },
    {
      "cell_type": "code",
      "source": [
        "(train_images, test_images), (train_labels, test_labels) = mnist.load_data()"
      ],
      "metadata": {
        "colab": {
          "base_uri": "https://localhost:8080/"
        },
        "id": "kNpZ31ujuXuH",
        "outputId": "a9a97ccd-9fff-4d08-a222-fe30e7b69739"
      },
      "execution_count": 13,
      "outputs": [
        {
          "output_type": "stream",
          "name": "stdout",
          "text": [
            "Downloading data from https://storage.googleapis.com/tensorflow/tf-keras-datasets/mnist.npz\n",
            "11490434/11490434 [==============================] - 1s 0us/step\n"
          ]
        }
      ]
    },
    {
      "cell_type": "markdown",
      "source": [
        "* Şimdi train_images eksen sayısını görüntüliyelim"
      ],
      "metadata": {
        "id": "vQsl82dJum7z"
      }
    },
    {
      "cell_type": "code",
      "source": [
        "train_images.ndim # 3B tensör"
      ],
      "metadata": {
        "colab": {
          "base_uri": "https://localhost:8080/"
        },
        "id": "bMwF3XH1uj1m",
        "outputId": "b1847dcd-0ce1-484a-a234-6acc8cc8f43b"
      },
      "execution_count": 23,
      "outputs": [
        {
          "output_type": "execute_result",
          "data": {
            "text/plain": [
              "3"
            ]
          },
          "metadata": {},
          "execution_count": 23
        }
      ]
    },
    {
      "cell_type": "markdown",
      "source": [
        "* Şimdi de şekli görüntüleyelim."
      ],
      "metadata": {
        "id": "-IvarnVUu8Ek"
      }
    },
    {
      "cell_type": "code",
      "source": [
        "train_images.shape"
      ],
      "metadata": {
        "colab": {
          "base_uri": "https://localhost:8080/"
        },
        "id": "La-0rTE9vF9L",
        "outputId": "9de32ac4-a171-4763-ce8a-e1c945a05f35"
      },
      "execution_count": 24,
      "outputs": [
        {
          "output_type": "execute_result",
          "data": {
            "text/plain": [
              "(60000, 28, 28)"
            ]
          },
          "metadata": {},
          "execution_count": 24
        }
      ]
    },
    {
      "cell_type": "markdown",
      "source": [
        "* Ve son olarak veri tipini görüntüleyelim."
      ],
      "metadata": {
        "id": "rVzVcPWsvNzK"
      }
    },
    {
      "cell_type": "code",
      "source": [
        "train_images.dtype"
      ],
      "metadata": {
        "colab": {
          "base_uri": "https://localhost:8080/"
        },
        "id": "I_d5-PJuvIGZ",
        "outputId": "47c0566c-33ab-4f16-e77b-4d73c1082855"
      },
      "execution_count": 25,
      "outputs": [
        {
          "output_type": "execute_result",
          "data": {
            "text/plain": [
              "dtype('uint8')"
            ]
          },
          "metadata": {},
          "execution_count": 25
        }
      ]
    },
    {
      "cell_type": "markdown",
      "source": [
        "Sonuç olarak, 8 bitlik tam sayıları taşıyan 3B tensörümüz var. Daha net konuşursak 28x28 boyutundaki 60000 adet bulunduran bir dizimiz var. Her matris 0 ile 255 arasında değer alan ve gri ölçeğinde bir görüntüdür. Şimdi 3B tensörümüzün dördüncü rakamını Matplotlib kütüphanesi kullanarak görüntüleyelim."
      ],
      "metadata": {
        "id": "GGyyGPlPMcHK"
      }
    },
    {
      "cell_type": "code",
      "source": [
        "digit = train_images[4]"
      ],
      "metadata": {
        "id": "bYOdp-sIvYJ-"
      },
      "execution_count": 26,
      "outputs": []
    },
    {
      "cell_type": "code",
      "source": [
        "import matplotlib.pyplot as plt\n",
        "\n",
        "plt.imshow(digit, cmap=plt.cm.binary)\n",
        "plt.show()"
      ],
      "metadata": {
        "colab": {
          "base_uri": "https://localhost:8080/",
          "height": 430
        },
        "id": "Ea5rXyuONXe6",
        "outputId": "bd2320f5-dec9-45be-b513-320d3a2a3b37"
      },
      "execution_count": 27,
      "outputs": [
        {
          "output_type": "display_data",
          "data": {
            "text/plain": [
              "<Figure size 640x480 with 1 Axes>"
            ],
            "image/png": "[encoded data removed]"
          },
          "metadata": {}
        }
      ]
    },
    {
      "cell_type": "code",
      "source": [],
      "metadata": {
        "id": "we_zsNjPNlP7"
      },
      "execution_count": null,
      "outputs": []
    }
  ]
}