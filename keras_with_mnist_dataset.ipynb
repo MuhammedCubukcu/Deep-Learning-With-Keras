{
  "nbformat": 4,
  "nbformat_minor": 0,
  "metadata": {
    "colab": {
      "provenance": [],
      "authorship_tag": "ABX9TyPLAJxZRYlVxdeYIEoWY+zg",
      "include_colab_link": true
    },
    "kernelspec": {
      "name": "python3",
      "display_name": "Python 3"
    },
    "language_info": {
      "name": "python"
    }
  },
  "cells": [
    {
      "cell_type": "markdown",
      "metadata": {
        "id": "view-in-github",
        "colab_type": "text"
      },
      "source": [
        "<a href=\"https://colab.research.google.com/github/MuhammedCubukcu/Deep-Learning-With-Keras/blob/main/keras_with_mnist_dataset.ipynb\" target=\"_parent\"><img src=\"https://colab.research.google.com/assets/colab-badge.svg\" alt=\"Open In Colab\"/></a>"
      ]
    },
    {
      "cell_type": "markdown",
      "source": [
        "## Dataseti Yükleme\n",
        "\n"
      ],
      "metadata": {
        "id": "nEIR8_rU-6vP"
      }
    },
    {
      "cell_type": "code",
      "execution_count": 23,
      "metadata": {
        "id": "awVyhndr7zBT"
      },
      "outputs": [],
      "source": [
        "from keras.datasets import mnist"
      ]
    },
    {
      "cell_type": "code",
      "source": [
        "(train_images, train_labels), (test_images, test_labels) = mnist.load_data()"
      ],
      "metadata": {
        "id": "V_SvT8tI7_lM"
      },
      "execution_count": 24,
      "outputs": []
    },
    {
      "cell_type": "code",
      "source": [
        "train_images.shape"
      ],
      "metadata": {
        "colab": {
          "base_uri": "https://localhost:8080/"
        },
        "id": "kF2Eww0o8uSS",
        "outputId": "359a1d6d-a8eb-4e59-f6b3-0a0779201cbd"
      },
      "execution_count": 25,
      "outputs": [
        {
          "output_type": "execute_result",
          "data": {
            "text/plain": [
              "(60000, 28, 28)"
            ]
          },
          "metadata": {},
          "execution_count": 25
        }
      ]
    },
    {
      "cell_type": "code",
      "source": [
        "len(train_labels)"
      ],
      "metadata": {
        "colab": {
          "base_uri": "https://localhost:8080/"
        },
        "id": "zHGKGw_n8x9x",
        "outputId": "14a5ba56-196c-4b87-b000-0996dd404d3a"
      },
      "execution_count": 26,
      "outputs": [
        {
          "output_type": "execute_result",
          "data": {
            "text/plain": [
              "60000"
            ]
          },
          "metadata": {},
          "execution_count": 26
        }
      ]
    },
    {
      "cell_type": "code",
      "source": [
        "test_images.shape"
      ],
      "metadata": {
        "colab": {
          "base_uri": "https://localhost:8080/"
        },
        "id": "SwvCWBZ-_Egb",
        "outputId": "ddced2ba-a114-4c37-dc3b-2a23b5d803e2"
      },
      "execution_count": 27,
      "outputs": [
        {
          "output_type": "execute_result",
          "data": {
            "text/plain": [
              "(10000, 28, 28)"
            ]
          },
          "metadata": {},
          "execution_count": 27
        }
      ]
    },
    {
      "cell_type": "code",
      "source": [
        "len(test_labels)"
      ],
      "metadata": {
        "colab": {
          "base_uri": "https://localhost:8080/"
        },
        "id": "zuGytuuW_Y98",
        "outputId": "62029391-0dd1-4dbc-9b18-1f8a193d9e2a"
      },
      "execution_count": 28,
      "outputs": [
        {
          "output_type": "execute_result",
          "data": {
            "text/plain": [
              "10000"
            ]
          },
          "metadata": {},
          "execution_count": 28
        }
      ]
    },
    {
      "cell_type": "markdown",
      "source": [
        "## Ağ mimarisi"
      ],
      "metadata": {
        "id": "VuP3xJqX_lUT"
      }
    },
    {
      "cell_type": "code",
      "source": [
        "from keras import models\n",
        "from keras import layers"
      ],
      "metadata": {
        "id": "Bms6SnHN_cJa"
      },
      "execution_count": 29,
      "outputs": []
    },
    {
      "cell_type": "code",
      "source": [
        "network = models.Sequential()"
      ],
      "metadata": {
        "id": "t2DhLD3T_xtJ"
      },
      "execution_count": 30,
      "outputs": []
    },
    {
      "cell_type": "code",
      "source": [
        "network.add(layers.Dense(512, activation='relu', input_shape=(28 * 28,))) # Dense önceki katmanla kendi katamanındaki tüm birimlerin birbirine tamamen bağlı olduğu katmansır.\n",
        "network.add(layers.Dense(10, activation='softmax')) # Çıktı katmanı"
      ],
      "metadata": {
        "id": "1FYG1k0Y_7lY"
      },
      "execution_count": 31,
      "outputs": []
    },
    {
      "cell_type": "markdown",
      "source": [
        "## Derleme Adımı"
      ],
      "metadata": {
        "id": "xskRTueFB3x1"
      }
    },
    {
      "cell_type": "code",
      "source": [
        "network.compile(optimizer='rmsprop',# optimization\n",
        "                loss='categorical_crossentropy', # loss funtion\n",
        "                metrics=['accuracy']) # score"
      ],
      "metadata": {
        "id": "vqnHJCtqAj5A"
      },
      "execution_count": 32,
      "outputs": []
    },
    {
      "cell_type": "markdown",
      "source": [
        "## Girdilerin Hazırlanması\n",
        "* Eğitime başlamadan önce tüm girdilerimizi [0,1] aralığında ölçeklendiriyoruz.\n",
        "* Eğitim veri setimizdeli görütüler (60000, 28, 28) şeklinde bir dizide ve her elmanı uint8 veri yipinde [0,255] veri aralığında saklanmıştı.\n",
        "* Eğitim veri setindeki görüntüleri float32 veri tipinde 0 ile 1 arasında (60000, 28, 28) şeklinde bir dizi olacak şekilde düzenliyoruz."
      ],
      "metadata": {
        "id": "G0GeyfRpB7qr"
      }
    },
    {
      "cell_type": "code",
      "source": [
        "train_images = train_images.reshape((60000, 28 * 28))\n",
        "train_images = train_images.astype('float32') / 255\n",
        "test_images = test_images.reshape((10000, 28 * 28))\n",
        "test_images = test_images.astype('float32') / 255"
      ],
      "metadata": {
        "id": "EbSSEcZrB15E"
      },
      "execution_count": 33,
      "outputs": []
    },
    {
      "cell_type": "markdown",
      "source": [
        "## Etiketlerin hazırlanması\n"
      ],
      "metadata": {
        "id": "SHQWREAYED1A"
      }
    },
    {
      "cell_type": "code",
      "source": [
        "from keras.utils import to_categorical\n",
        "train_labels = to_categorical(train_labels)\n",
        "test_labels = to_categorical(test_labels)"
      ],
      "metadata": {
        "id": "-tr5z0QGEAAS"
      },
      "execution_count": 34,
      "outputs": []
    },
    {
      "cell_type": "markdown",
      "source": [
        "## Model Eğitme"
      ],
      "metadata": {
        "id": "90FfEmOKEeOm"
      }
    },
    {
      "cell_type": "code",
      "source": [
        "network.fit(train_images, train_labels, epochs=6, batch_size=128)\n",
        "# Eğitim süresince 2 değer var\n",
        "# Ağın eğitim veri seti üzerindeki kaybı ve doüruluğu\n",
        "# Eğitim veri setinde çabucak %99 doğruluk oranınına ulaştık."
      ],
      "metadata": {
        "colab": {
          "base_uri": "https://localhost:8080/"
        },
        "id": "_IgsdmmKEZ8t",
        "outputId": "908d99ac-d3b8-48c1-fef6-93d27d3fe791"
      },
      "execution_count": 35,
      "outputs": [
        {
          "output_type": "stream",
          "name": "stdout",
          "text": [
            "Epoch 1/6\n",
            "469/469 [==============================] - 3s 6ms/step - loss: 0.2643 - accuracy: 0.9240\n",
            "Epoch 2/6\n",
            "469/469 [==============================] - 4s 8ms/step - loss: 0.1072 - accuracy: 0.9687\n",
            "Epoch 3/6\n",
            "469/469 [==============================] - 5s 10ms/step - loss: 0.0708 - accuracy: 0.9789\n",
            "Epoch 4/6\n",
            "469/469 [==============================] - 3s 6ms/step - loss: 0.0516 - accuracy: 0.9848\n",
            "Epoch 5/6\n",
            "469/469 [==============================] - 2s 5ms/step - loss: 0.0384 - accuracy: 0.9886\n",
            "Epoch 6/6\n",
            "469/469 [==============================] - 3s 5ms/step - loss: 0.0290 - accuracy: 0.9915\n"
          ]
        },
        {
          "output_type": "execute_result",
          "data": {
            "text/plain": [
              "<keras.src.callbacks.History at 0x7d015c3fadd0>"
            ]
          },
          "metadata": {},
          "execution_count": 35
        }
      ]
    },
    {
      "cell_type": "code",
      "source": [
        "test_loss, test_acc = network.evaluate(test_images, test_labels)\n",
        "print('test_acc : ', test_acc) # test veri seti üzerindeki doğruluk %97"
      ],
      "metadata": {
        "colab": {
          "base_uri": "https://localhost:8080/"
        },
        "id": "A9oK3wu9Eyb1",
        "outputId": "c031cf94-4435-47f9-e3e1-8a9f8c15109a"
      },
      "execution_count": 36,
      "outputs": [
        {
          "output_type": "stream",
          "name": "stdout",
          "text": [
            "313/313 [==============================] - 1s 2ms/step - loss: 0.0695 - accuracy: 0.9791\n",
            "test_acc :  0.9790999889373779\n"
          ]
        }
      ]
    },
    {
      "cell_type": "code",
      "source": [],
      "metadata": {
        "id": "k0e9--iBF7gJ"
      },
      "execution_count": 36,
      "outputs": []
    }
  ]
}