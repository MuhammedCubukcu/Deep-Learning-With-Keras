{
  "nbformat": 4,
  "nbformat_minor": 0,
  "metadata": {
    "colab": {
      "provenance": [],
      "authorship_tag": "ABX9TyNIdPZMHVp/iU3F4OYVxaVw"
    },
    "kernelspec": {
      "name": "python3",
      "display_name": "Python 3"
    },
    "language_info": {
      "name": "python"
    }
  },
  "cells": [
    {
      "cell_type": "markdown",
      "source": [
        "## Numpy ile Tensör İşlemleri"
      ],
      "metadata": {
        "id": "--x92OxBfPmI"
      }
    },
    {
      "cell_type": "code",
      "execution_count": 2,
      "metadata": {
        "id": "YDnBcqkYeWDs"
      },
      "outputs": [],
      "source": [
        "from keras.datasets import mnist\n",
        "from keras import models\n",
        "from keras import layers"
      ]
    },
    {
      "cell_type": "code",
      "source": [
        "(train_images, train_labels), (test_images, test_labels) = mnist.load_data()"
      ],
      "metadata": {
        "colab": {
          "base_uri": "https://localhost:8080/"
        },
        "id": "4YptM0wXkBq5",
        "outputId": "32545022-b5e3-4706-c7cb-b5df0e3cf46d"
      },
      "execution_count": 3,
      "outputs": [
        {
          "output_type": "stream",
          "name": "stdout",
          "text": [
            "Downloading data from https://storage.googleapis.com/tensorflow/tf-keras-datasets/mnist.npz\n",
            "11490434/11490434 [==============================] - 0s 0us/step\n"
          ]
        }
      ]
    },
    {
      "cell_type": "code",
      "source": [
        "network = models.Sequential()"
      ],
      "metadata": {
        "id": "QKq8xlcQkJKo"
      },
      "execution_count": 4,
      "outputs": []
    },
    {
      "cell_type": "code",
      "source": [
        "network.add(layers.Dense(512, activation='relu', input_shape=(28 * 28,))) # Dense önceki katmanla kendi katamanındaki tüm birimlerin birbirine tamamen bağlı olduğu katmansır.\n",
        "network.add(layers.Dense(10, activation='softmax')) # Çıktı katmanı"
      ],
      "metadata": {
        "id": "ngJbmd5ukJzr"
      },
      "execution_count": 5,
      "outputs": []
    },
    {
      "cell_type": "code",
      "source": [
        "\n",
        "network.compile(optimizer='rmsprop',# optimization\n",
        "                loss='categorical_crossentropy', # loss funtion\n",
        "                metrics=['accuracy']) # score"
      ],
      "metadata": {
        "id": "gX9BYSxKkO26"
      },
      "execution_count": 6,
      "outputs": []
    },
    {
      "cell_type": "code",
      "source": [
        "\n",
        "train_images = train_images.reshape((60000, 28 * 28))\n",
        "train_images = train_images.astype('float32') / 255\n",
        "test_images = test_images.reshape((10000, 28 * 28))\n",
        "test_images = test_images.astype('float32') / 255\n",
        ""
      ],
      "metadata": {
        "id": "yZFMWneKkSFK"
      },
      "execution_count": 7,
      "outputs": []
    },
    {
      "cell_type": "code",
      "source": [
        "from keras.utils import to_categorical\n",
        "train_labels = to_categorical(train_labels)\n",
        "test_labels = to_categorical(test_labels)"
      ],
      "metadata": {
        "id": "3QLLb_z9kS1T"
      },
      "execution_count": 8,
      "outputs": []
    },
    {
      "cell_type": "code",
      "source": [
        "\n",
        "network.fit(train_images, train_labels, epochs=6, batch_size=128)"
      ],
      "metadata": {
        "colab": {
          "base_uri": "https://localhost:8080/"
        },
        "id": "O2W_87p1kW9C",
        "outputId": "d5d960aa-b7aa-45fe-d5d1-4d4892ff1495"
      },
      "execution_count": 9,
      "outputs": [
        {
          "output_type": "stream",
          "name": "stdout",
          "text": [
            "Epoch 1/6\n",
            "469/469 [==============================] - 4s 8ms/step - loss: 0.2617 - accuracy: 0.9245\n",
            "Epoch 2/6\n",
            "469/469 [==============================] - 4s 9ms/step - loss: 0.1059 - accuracy: 0.9685\n",
            "Epoch 3/6\n",
            "469/469 [==============================] - 4s 8ms/step - loss: 0.0697 - accuracy: 0.9793\n",
            "Epoch 4/6\n",
            "469/469 [==============================] - 3s 7ms/step - loss: 0.0505 - accuracy: 0.9847\n",
            "Epoch 5/6\n",
            "469/469 [==============================] - 4s 9ms/step - loss: 0.0377 - accuracy: 0.9886\n",
            "Epoch 6/6\n",
            "469/469 [==============================] - 4s 9ms/step - loss: 0.0288 - accuracy: 0.9912\n"
          ]
        },
        {
          "output_type": "execute_result",
          "data": {
            "text/plain": [
              "<keras.src.callbacks.History at 0x7a7a30532b30>"
            ]
          },
          "metadata": {},
          "execution_count": 9
        }
      ]
    },
    {
      "cell_type": "code",
      "source": [
        "test_loss, test_acc = network.evaluate(test_images, test_labels)\n",
        "print('test_acc : ', test_acc)"
      ],
      "metadata": {
        "colab": {
          "base_uri": "https://localhost:8080/"
        },
        "id": "QskDNJcPkZzz",
        "outputId": "9346ab90-8410-4edd-ebec-a9e689f97ddf"
      },
      "execution_count": 10,
      "outputs": [
        {
          "output_type": "stream",
          "name": "stdout",
          "text": [
            "313/313 [==============================] - 1s 2ms/step - loss: 0.0612 - accuracy: 0.9815\n",
            "test_acc :  0.9815000295639038\n"
          ]
        }
      ]
    },
    {
      "cell_type": "markdown",
      "source": [
        "Aşağıdaki örnek 10 ile 100 (100 dahil değil) arasındaki örnekleri seçip (90,28,28) şeklinde bir dizinin içine yazıyor"
      ],
      "metadata": {
        "id": "YdCIx8oTk337"
      }
    },
    {
      "cell_type": "code",
      "source": [
        "my_slice = train_images[10:100]\n",
        "my_slice.shape"
      ],
      "metadata": {
        "colab": {
          "base_uri": "https://localhost:8080/"
        },
        "id": "uRuFEJZDlMA5",
        "outputId": "ab4cc44a-cd9b-474b-c38e-2f0f39033278"
      },
      "execution_count": 11,
      "outputs": [
        {
          "output_type": "execute_result",
          "data": {
            "text/plain": [
              "(90, 784)"
            ]
          },
          "metadata": {},
          "execution_count": 11
        }
      ]
    },
    {
      "cell_type": "markdown",
      "source": [
        "* Vektör verisi: 2B tensörler (örnekler, öznitelikler)\n",
        "* Zaman serisi verisi ya da ardışık veri: 3B tensörler (örnekler,zaman_adımı,öznitelikler)\n",
        "* Görüntüler: 4B tensörler (örnekler,yükseklik,genişlik,kanallar) ya da (örnekler,kanallar,yükseklik,genişlik)\n",
        "* Video: 5B tensörler (örnekler,kareler,yükseklik,genişlik,kanallar) ya da (örnekler,kareler,kanallar,yükseklik,genişlik)"
      ],
      "metadata": {
        "id": "BKzn1GNlmefs"
      }
    },
    {
      "cell_type": "markdown",
      "source": [
        "## Vektör Verisi\n",
        "En sık karşılaşılan durumdur. Böyle bir veri setinde, her veri noktası bir vektör olarak kodlanabilir ve böylece tüm veri 2B tensör(vektör dizisi) olarak kodlanmış olur. Birinci eksen örnek ekseni, ikinci eksen ise öznitelik eksenidir.\n",
        "* iki örnek inceleyelim:"
      ],
      "metadata": {
        "id": "QW3DrN8boIQr"
      }
    },
    {
      "cell_type": "markdown",
      "source": [
        "* Sigorta istatistikleri veri setimizde her kişi için yaş,posta kodu ve aylık gelir bilgileri olsun. Her kişi için üç değerli bir vektör olursa 100000 kişi için tüm veri seti (100000, 3) şeklinde olacaktır."
      ],
      "metadata": {
        "id": "CzqYFMQZo9xS"
      }
    },
    {
      "cell_type": "markdown",
      "source": [
        "* Metin belgeleri veri setimizde sözlüğümüzde bulunan en çok kullanılan 20000 kelimenin kaç defa bulunduğunu saklayacağız. Her belge 20000 değeri olan bir vektör olarak kodlanacak ve toplam 500 belge için veri setimiz (500, 20000) şeklinde olacaktır."
      ],
      "metadata": {
        "id": "Uv8yQbakpofP"
      }
    },
    {
      "cell_type": "code",
      "source": [],
      "metadata": {
        "id": "LLh7Xx9hpnY4"
      },
      "execution_count": null,
      "outputs": []
    }
  ]
}